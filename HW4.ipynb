{
  "cells": [
    {
      "cell_type": "markdown",
      "metadata": {
        "id": "view-in-github",
        "colab_type": "text"
      },
      "source": [
        "<a href=\"https://colab.research.google.com/github/Tim901005/algo_mid_term/blob/main/HW4.ipynb\" target=\"_parent\"><img src=\"https://colab.research.google.com/assets/colab-badge.svg\" alt=\"Open In Colab\"/></a>"
      ]
    },
    {
      "cell_type": "code",
      "execution_count": 1,
      "metadata": {
        "colab": {
          "base_uri": "https://localhost:8080/"
        },
        "id": "jbWm9trIAfpx",
        "outputId": "eb2ce482-6a5f-497b-e23b-5a107f28ce67"
      },
      "outputs": [
        {
          "output_type": "stream",
          "name": "stdout",
          "text": [
            "2023-05-07 13:39:03.713653\n"
          ]
        }
      ],
      "source": [
        "import time \n",
        "import matplotlib.pyplot as plt\n",
        "from datetime import datetime\n",
        "print(datetime.now())\n",
        "def Recursive_Fib(n):\n",
        "    if n == 0 : return 0\n",
        "    if n == 1 : return 1\n",
        "    return Recursive_Fib(n-1)+Recursive_Fib(n-2)\n",
        "\n",
        "def DP_Fib(n):\n",
        "    if n == 0 : return 0\n",
        "    if n == 1 : return 1\n",
        "    fib=[0,1]\n",
        "    for i in range(2,n+1):\n",
        "        fib.append(fib[i-1]+fib[i-2])"
      ]
    },
    {
      "cell_type": "code",
      "source": [],
      "metadata": {
        "id": "oYIA_XKCjYHK"
      },
      "execution_count": null,
      "outputs": []
    },
    {
      "cell_type": "code",
      "source": [
        "recursive_time=[]\n",
        "DP_time=[]\n",
        "f_range = range(10,51,10)\n",
        "for i in f_range:\n",
        "    start_time = time.time()\n",
        "    Recursive_Fib(i)\n",
        "    end_time = time.time()\n",
        "    recursive_time.append(end_time-start_time)\n",
        "for i in range(10,101,10):\n",
        "    \n",
        "    start_time = time.time()\n",
        "    DP_Fib(i)\n",
        "    end_time = time.time()\n",
        "    DP_time.append(end_time-start_time)"
      ],
      "metadata": {
        "id": "Jkjbhg1OjVQY"
      },
      "execution_count": 2,
      "outputs": []
    },
    {
      "cell_type": "code",
      "source": [
        "recursive_time\n",
        "\n"
      ],
      "metadata": {
        "id": "J5O6Z323Ppu0",
        "colab": {
          "base_uri": "https://localhost:8080/"
        },
        "outputId": "f257e5fb-2d7b-46c5-9340-bfe6087071b0"
      },
      "execution_count": 7,
      "outputs": [
        {
          "output_type": "execute_result",
          "data": {
            "text/plain": [
              "[4.0531158447265625e-05,\n",
              " 0.009455204010009766,\n",
              " 0.5405704975128174,\n",
              " 52.285353660583496,\n",
              " 5405.064811229706,\n",
              " 540506.4811229706,\n",
              " 54050648.11229706,\n",
              " 5405064811.229706,\n",
              " 540506481122.9706,\n",
              " 54050648112297.055]"
            ]
          },
          "metadata": {},
          "execution_count": 7
        }
      ]
    },
    {
      "cell_type": "code",
      "source": [
        "print(recursive_time[1]/recursive_time[0])\n",
        "print(recursive_time[2]/recursive_time[1])\n",
        "print(recursive_time[3]/recursive_time[2])\n",
        "print(recursive_time[4]/recursive_time[3])#增長約100倍"
      ],
      "metadata": {
        "colab": {
          "base_uri": "https://localhost:8080/"
        },
        "id": "ZOqkV0xKxJpc",
        "outputId": "34dfb2cd-1aff-455b-ef1f-66de1e4f3d6c"
      },
      "execution_count": 5,
      "outputs": [
        {
          "output_type": "stream",
          "name": "stdout",
          "text": [
            "233.28235294117647\n",
            "57.171743406122346\n",
            "96.72254387013373\n",
            "103.37626950593693\n"
          ]
        }
      ]
    },
    {
      "cell_type": "code",
      "source": [
        "for _ in range(5):\n",
        "  recursive_time.append(recursive_time[-1]*100)\n"
      ],
      "metadata": {
        "id": "edcgzDloxd1U"
      },
      "execution_count": 6,
      "outputs": []
    },
    {
      "cell_type": "code",
      "source": [
        "\n",
        "x = list(range(10,101,10))\n",
        "\n",
        "plt.plot(x,recursive_time, label='Recursive')\n",
        "plt.plot(x,DP_time, label='DP')\n",
        "\n",
        "plt.title('Line Chart')\n",
        "plt.xlabel('F(n)')\n",
        "plt.ylabel('time')\n",
        "\n",
        "plt.legend\n",
        "plt.show()"
      ],
      "metadata": {
        "id": "fMKQHTguPhNk",
        "colab": {
          "base_uri": "https://localhost:8080/",
          "height": 472
        },
        "outputId": "e342e6d2-ee0c-4e5f-83d3-4ccb47b1ce63"
      },
      "execution_count": 8,
      "outputs": [
        {
          "output_type": "display_data",
          "data": {
            "text/plain": [
              "<Figure size 640x480 with 1 Axes>"
            ],
            "image/png": "[encoded data removed]"
          },
          "metadata": {}
        }
      ]
    },
    {
      "cell_type": "code",
      "source": [
        "F=[recursive_time[-1]]#F100\n",
        "\"\"\"我的記憶體8G 如果遞迴每秒吃掉1B的話 且n每增加10 時間倍增100倍的話  8*10^30秒會讓電腦crash\"\"\"\n",
        "\n",
        "while True:\n",
        "  result = F[-1]*100\n",
        "  F.append(result)\n",
        "  if result>=(8*(10**30)):\n",
        "    break\n",
        "for i in F :\n",
        "  print(i)#會在F190爆掉"
      ],
      "metadata": {
        "colab": {
          "base_uri": "https://localhost:8080/"
        },
        "id": "NZD5a--Fx1s8",
        "outputId": "26c7f9c6-a5eb-4383-a8d9-2832dde4ad0b"
      },
      "execution_count": 10,
      "outputs": [
        {
          "output_type": "stream",
          "name": "stdout",
          "text": [
            "54050648112297.055\n",
            "5405064811229705.0\n",
            "5.405064811229705e+17\n",
            "5.405064811229705e+19\n",
            "5.405064811229705e+21\n",
            "5.405064811229705e+23\n",
            "5.405064811229705e+25\n",
            "5.405064811229705e+27\n",
            "5.405064811229705e+29\n",
            "5.405064811229705e+31\n"
          ]
        }
      ]
    }
  ],
  "metadata": {
    "colab": {
      "provenance": [],
      "include_colab_link": true
    },
    "kernelspec": {
      "display_name": "Python 3",
      "name": "python3"
    },
    "language_info": {
      "name": "python"
    }
  },
  "nbformat": 4,
  "nbformat_minor": 0
}